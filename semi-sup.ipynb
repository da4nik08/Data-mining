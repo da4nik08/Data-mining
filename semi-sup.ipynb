{
 "cells": [
  {
   "cell_type": "code",
   "execution_count": 1,
   "id": "edc8a177",
   "metadata": {},
   "outputs": [],
   "source": [
    "import numpy as np\n",
    "import pandas as pd\n",
    "import matplotlib.pyplot as plt\n",
    "from tensorflow.keras.datasets import mnist\n",
    "import tensorflow as tf\n",
    "from tensorflow.keras import layers\n",
    "import random"
   ]
  },
  {
   "cell_type": "code",
   "execution_count": 2,
   "id": "e2265618",
   "metadata": {},
   "outputs": [],
   "source": [
    "trh = 0.8"
   ]
  },
  {
   "cell_type": "code",
   "execution_count": 3,
   "id": "821bcd5c",
   "metadata": {},
   "outputs": [
    {
     "data": {
      "text/plain": [
       "\"gpus = tf.config.experimental.list_physical_devices('GPU')\\nprint(gpus)\\ntf.config.set_visible_devices([], 'CPU') # hide the CPU\\ntf.config.set_visible_devices(gpus[0], 'GPU') # unhide potentially hidden GPU\\ntf.config.get_visible_devices()\""
      ]
     },
     "execution_count": 3,
     "metadata": {},
     "output_type": "execute_result"
    }
   ],
   "source": [
    "'''gpus = tf.config.experimental.list_physical_devices('GPU')\n",
    "print(gpus)\n",
    "tf.config.set_visible_devices([], 'CPU') # hide the CPU\n",
    "tf.config.set_visible_devices(gpus[0], 'GPU') # unhide potentially hidden GPU\n",
    "tf.config.get_visible_devices()'''\n"
   ]
  },
  {
   "cell_type": "code",
   "execution_count": 4,
   "id": "fc895658",
   "metadata": {},
   "outputs": [],
   "source": [
    "(trainX, trainy), (testX, testy) = mnist.load_data()"
   ]
  },
  {
   "cell_type": "code",
   "execution_count": 5,
   "id": "64020715",
   "metadata": {},
   "outputs": [
    {
     "data": {
      "text/plain": [
       "(60000, 28, 28)"
      ]
     },
     "execution_count": 5,
     "metadata": {},
     "output_type": "execute_result"
    }
   ],
   "source": [
    "trainX.shape"
   ]
  },
  {
   "cell_type": "code",
   "execution_count": 6,
   "id": "eebea35d",
   "metadata": {},
   "outputs": [
    {
     "data": {
      "image/png": "[encoded data removed]",
      "text/plain": [
       "<Figure size 720x720 with 1 Axes>"
      ]
     },
     "metadata": {
      "needs_background": "light"
     },
     "output_type": "display_data"
    }
   ],
   "source": [
    "fig, ax = plt.subplots(figsize=(10, 10))\n",
    "plt.imshow(trainX[1], cmap=plt.get_cmap('gray'))\n",
    "plt.show()"
   ]
  },
  {
   "cell_type": "code",
   "execution_count": 7,
   "id": "f8070bfd",
   "metadata": {},
   "outputs": [
    {
     "data": {
      "text/plain": [
       "array([0, 0, 0, 0, 0, 0, 0, 0, 0, 0, 0, 0, 0, 0, 0, 0, 0, 0, 0, 0, 0, 0,\n",
       "       0, 0, 0, 0, 0, 0], dtype=uint8)"
      ]
     },
     "execution_count": 7,
     "metadata": {},
     "output_type": "execute_result"
    }
   ],
   "source": [
    "trainX[1][1]"
   ]
  },
  {
   "cell_type": "code",
   "execution_count": 8,
   "id": "03ae5261",
   "metadata": {},
   "outputs": [],
   "source": [
    "trainX = (trainX - 127.5)/ 127.5\n",
    "testX = (testX - 127.5)/ 127.5"
   ]
  },
  {
   "cell_type": "code",
   "execution_count": 9,
   "id": "57422499",
   "metadata": {},
   "outputs": [],
   "source": [
    "h_list = list()"
   ]
  },
  {
   "cell_type": "code",
   "execution_count": 10,
   "id": "38a385d2",
   "metadata": {},
   "outputs": [],
   "source": [
    "def select_supervised_samples(dataset, n_samples=100, n_classes=10):\n",
    "    X, y = dataset\n",
    "    X_list, y_list = list(), list()\n",
    "    n_per_class = int(n_samples / n_classes)\n",
    "    for i in range(n_classes):\n",
    "        # get all images for this class\n",
    "        X_with_class = X[y == i]\n",
    "        # choose random instances\n",
    "        ix = np.random.randint(0, len(X_with_class), n_per_class)\n",
    "        # add to list\n",
    "        [X_list.append(X_with_class[j]) for j in ix]\n",
    "        [y_list.append(i) for j in ix]\n",
    "    return np.asarray(X_list), np.asarray(y_list)"
   ]
  },
  {
   "cell_type": "code",
   "execution_count": 11,
   "id": "0f3e74a9",
   "metadata": {},
   "outputs": [],
   "source": [
    "def make_discriminator_model():\n",
    "    model = tf.keras.Sequential()\n",
    "    model.add(layers.Conv2D(64, (5, 5), strides=(2, 2), padding='same',\n",
    "                                     input_shape=[28, 28, 1]))\n",
    "    model.add(layers.LeakyReLU())\n",
    "    model.add(layers.Dropout(0.3))\n",
    "\n",
    "    model.add(layers.Conv2D(128, (5, 5), strides=(2, 2), padding='same'))\n",
    "    model.add(layers.LeakyReLU())\n",
    "    model.add(layers.Dropout(0.3))\n",
    "\n",
    "    model.add(layers.Flatten())\n",
    "    model.add(layers.Dense(64, activation='relu'))\n",
    "    model.add(layers.Dense(10))\n",
    "    model.add(layers.Activation('softmax'))\n",
    "\n",
    "    return model\n"
   ]
  },
  {
   "cell_type": "code",
   "execution_count": 12,
   "id": "418dc16d",
   "metadata": {},
   "outputs": [],
   "source": [
    "sign_trainX, sign_trainy = select_supervised_samples((trainX, trainy), n_samples=1000)"
   ]
  },
  {
   "cell_type": "code",
   "execution_count": 13,
   "id": "cfff70a8",
   "metadata": {},
   "outputs": [],
   "source": [
    "#sign_trainX = sign_trainX.reshape(sign_trainX.shape[0], 28, 28, 1)\n",
    "#sign_trainy = sign_trainy.reshape(sign_trainy.shape[0], 1)"
   ]
  },
  {
   "cell_type": "code",
   "execution_count": 14,
   "id": "5ff3e687",
   "metadata": {},
   "outputs": [
    {
     "data": {
      "text/plain": [
       "(1000,)"
      ]
     },
     "execution_count": 14,
     "metadata": {},
     "output_type": "execute_result"
    }
   ],
   "source": [
    "sign_trainy.shape"
   ]
  },
  {
   "cell_type": "code",
   "execution_count": 15,
   "id": "68527fa3",
   "metadata": {},
   "outputs": [
    {
     "data": {
      "text/plain": [
       "(1000, 28, 28)"
      ]
     },
     "execution_count": 15,
     "metadata": {},
     "output_type": "execute_result"
    }
   ],
   "source": [
    "sign_trainX.shape"
   ]
  },
  {
   "cell_type": "code",
   "execution_count": 16,
   "id": "4c336746",
   "metadata": {},
   "outputs": [],
   "source": [
    "s_train = tf.data.Dataset.from_tensor_slices((sign_trainX, sign_trainy)).shuffle(10000).batch(1024)"
   ]
  },
  {
   "cell_type": "code",
   "execution_count": 17,
   "id": "25ba46d3",
   "metadata": {},
   "outputs": [],
   "source": [
    "model = make_discriminator_model()\n",
    "model.compile(optimizer='adam',\n",
    "              loss=tf.keras.losses.SparseCategoricalCrossentropy(from_logits=True),\n",
    "              metrics=['accuracy'])\n"
   ]
  },
  {
   "cell_type": "code",
   "execution_count": 18,
   "id": "86129f7c",
   "metadata": {},
   "outputs": [
    {
     "name": "stdout",
     "output_type": "stream",
     "text": [
      "Epoch 1/10\n"
     ]
    },
    {
     "name": "stderr",
     "output_type": "stream",
     "text": [
      "C:\\Users\\da4nik\\AppData\\Roaming\\Python\\Python310\\site-packages\\tensorflow\\python\\util\\dispatch.py:1082: UserWarning: \"`sparse_categorical_crossentropy` received `from_logits=True`, but the `output` argument was produced by a sigmoid or softmax activation and thus does not represent logits. Was this intended?\"\n",
      "  return dispatch_target(*args, **kwargs)\n"
     ]
    },
    {
     "name": "stdout",
     "output_type": "stream",
     "text": [
      "1/1 [==============================] - 7s 7s/step - loss: 2.2999 - accuracy: 0.1290 - val_loss: 2.1376 - val_accuracy: 0.3063\n",
      "Epoch 2/10\n",
      "1/1 [==============================] - 1s 1s/step - loss: 2.1461 - accuracy: 0.2920 - val_loss: 1.8618 - val_accuracy: 0.5260\n",
      "Epoch 3/10\n",
      "1/1 [==============================] - 1s 1s/step - loss: 1.8905 - accuracy: 0.4640 - val_loss: 1.6261 - val_accuracy: 0.6055\n",
      "Epoch 4/10\n",
      "1/1 [==============================] - 1s 1s/step - loss: 1.6245 - accuracy: 0.5880 - val_loss: 1.3189 - val_accuracy: 0.6941\n",
      "Epoch 5/10\n",
      "1/1 [==============================] - 1s 1s/step - loss: 1.3551 - accuracy: 0.6530 - val_loss: 1.0401 - val_accuracy: 0.7419\n",
      "Epoch 6/10\n",
      "1/1 [==============================] - 1s 1s/step - loss: 1.0435 - accuracy: 0.7540 - val_loss: 0.9229 - val_accuracy: 0.7202\n",
      "Epoch 7/10\n",
      "1/1 [==============================] - 1s 1s/step - loss: 0.9056 - accuracy: 0.7270 - val_loss: 0.7335 - val_accuracy: 0.7747\n",
      "Epoch 8/10\n",
      "1/1 [==============================] - 1s 1s/step - loss: 0.7375 - accuracy: 0.7760 - val_loss: 0.6364 - val_accuracy: 0.8013\n",
      "Epoch 9/10\n",
      "1/1 [==============================] - 1s 1s/step - loss: 0.6338 - accuracy: 0.8100 - val_loss: 0.5816 - val_accuracy: 0.8096\n",
      "Epoch 10/10\n",
      "1/1 [==============================] - 1s 1s/step - loss: 0.5286 - accuracy: 0.8280 - val_loss: 0.5676 - val_accuracy: 0.8194\n"
     ]
    }
   ],
   "source": [
    "history = model.fit(s_train, epochs=10, validation_data=(testX, testy))\n",
    "\n",
    "h_list.append(history)"
   ]
  },
  {
   "cell_type": "code",
   "execution_count": 19,
   "id": "045ff872",
   "metadata": {},
   "outputs": [
    {
     "data": {
      "text/plain": [
       "<matplotlib.legend.Legend at 0x1e910edb190>"
      ]
     },
     "execution_count": 19,
     "metadata": {},
     "output_type": "execute_result"
    },
    {
     "data": {
      "image/png": "[encoded data removed]",
      "text/plain": [
       "<Figure size 432x288 with 1 Axes>"
      ]
     },
     "metadata": {
      "needs_background": "light"
     },
     "output_type": "display_data"
    }
   ],
   "source": [
    "plt.plot(history.history['accuracy'], label='accuracy')\n",
    "plt.plot(history.history['val_accuracy'], label = 'val_accuracy')\n",
    "plt.xlabel('Epoch')\n",
    "plt.ylabel('Accuracy')\n",
    "plt.ylim([0.2, 1])\n",
    "plt.legend(loc='lower right')\n",
    "\n",
    "#test_loss, test_acc = model.evaluate(test_images,  test_labels, verbose=2)"
   ]
  },
  {
   "cell_type": "code",
   "execution_count": 20,
   "id": "74dd60ae",
   "metadata": {},
   "outputs": [],
   "source": [
    "output = model.predict(trainX)"
   ]
  },
  {
   "cell_type": "code",
   "execution_count": 21,
   "id": "1de9dc1e",
   "metadata": {},
   "outputs": [
    {
     "data": {
      "text/plain": [
       "array([2.6088490e-03, 5.8408339e-05, 1.4149088e-03, 7.3116519e-02,\n",
       "       1.6237685e-05, 9.1611671e-01, 7.5996452e-04, 3.2577431e-03,\n",
       "       1.3592370e-03, 1.2914198e-03], dtype=float32)"
      ]
     },
     "execution_count": 21,
     "metadata": {},
     "output_type": "execute_result"
    }
   ],
   "source": [
    "output[0]"
   ]
  },
  {
   "cell_type": "code",
   "execution_count": 22,
   "id": "eff0530b",
   "metadata": {},
   "outputs": [],
   "source": [
    "data = np.where(output > trh)"
   ]
  },
  {
   "cell_type": "code",
   "execution_count": 23,
   "id": "8bee3f1f",
   "metadata": {},
   "outputs": [],
   "source": [
    "new_x = trainX[data[0]]\n",
    "new_y = data[1]\n",
    "trainX = np.delete(trainX, data[0], axis=0)"
   ]
  },
  {
   "cell_type": "code",
   "execution_count": 24,
   "id": "8a2ab8e2",
   "metadata": {},
   "outputs": [],
   "source": [
    "new_x = np.concatenate((new_x, sign_trainX))\n",
    "new_y = np.concatenate((new_y, sign_trainy))"
   ]
  },
  {
   "cell_type": "code",
   "execution_count": 25,
   "id": "0068aa50",
   "metadata": {},
   "outputs": [
    {
     "data": {
      "text/plain": [
       "(36414, 28, 28)"
      ]
     },
     "execution_count": 25,
     "metadata": {},
     "output_type": "execute_result"
    }
   ],
   "source": [
    "new_x.shape"
   ]
  },
  {
   "cell_type": "code",
   "execution_count": 26,
   "id": "0f7e296d",
   "metadata": {},
   "outputs": [
    {
     "data": {
      "text/plain": [
       "(36414,)"
      ]
     },
     "execution_count": 26,
     "metadata": {},
     "output_type": "execute_result"
    }
   ],
   "source": [
    "new_y.shape"
   ]
  },
  {
   "cell_type": "code",
   "execution_count": 27,
   "id": "22611c02",
   "metadata": {},
   "outputs": [
    {
     "data": {
      "text/plain": [
       "(24586, 28, 28)"
      ]
     },
     "execution_count": 27,
     "metadata": {},
     "output_type": "execute_result"
    }
   ],
   "source": [
    "trainX.shape"
   ]
  },
  {
   "cell_type": "code",
   "execution_count": 28,
   "id": "9200a733",
   "metadata": {},
   "outputs": [
    {
     "name": "stdout",
     "output_type": "stream",
     "text": [
      "Epoch 1/10\n",
      "36/36 [==============================] - 4s 98ms/step - loss: 0.0309 - accuracy: 0.9952 - val_loss: 0.7792 - val_accuracy: 0.8637\n",
      "Epoch 2/10\n",
      "36/36 [==============================] - 3s 90ms/step - loss: 0.0158 - accuracy: 0.9964 - val_loss: 0.6420 - val_accuracy: 0.8728\n",
      "Epoch 3/10\n",
      "36/36 [==============================] - 3s 90ms/step - loss: 0.0142 - accuracy: 0.9968 - val_loss: 0.5677 - val_accuracy: 0.8819\n",
      "Epoch 4/10\n",
      "36/36 [==============================] - 3s 90ms/step - loss: 0.0142 - accuracy: 0.9965 - val_loss: 0.5509 - val_accuracy: 0.8827\n",
      "Epoch 5/10\n",
      "36/36 [==============================] - 3s 91ms/step - loss: 0.0130 - accuracy: 0.9966 - val_loss: 0.7109 - val_accuracy: 0.8527\n",
      "Epoch 6/10\n",
      "36/36 [==============================] - 3s 91ms/step - loss: 0.0121 - accuracy: 0.9970 - val_loss: 0.5669 - val_accuracy: 0.8818\n",
      "Epoch 7/10\n",
      "36/36 [==============================] - 3s 92ms/step - loss: 0.0107 - accuracy: 0.9971 - val_loss: 0.5987 - val_accuracy: 0.8834\n",
      "Epoch 8/10\n",
      "36/36 [==============================] - 3s 92ms/step - loss: 0.0102 - accuracy: 0.9975 - val_loss: 0.5806 - val_accuracy: 0.8839\n",
      "Epoch 9/10\n",
      "36/36 [==============================] - 3s 92ms/step - loss: 0.0093 - accuracy: 0.9974 - val_loss: 0.5848 - val_accuracy: 0.8833\n",
      "Epoch 10/10\n",
      "36/36 [==============================] - 3s 91ms/step - loss: 0.0091 - accuracy: 0.9973 - val_loss: 0.5850 - val_accuracy: 0.8863\n"
     ]
    }
   ],
   "source": [
    "i = new_y.shape[0]\n",
    "while i < 52000:\n",
    "    train_data = tf.data.Dataset.from_tensor_slices((new_x, new_y)).shuffle(10000).batch(1024)\n",
    "    with tf.device(\"/gpu:0\"):\n",
    "        history = model.fit(train_data, epochs=10, \n",
    "                    validation_data=(testX, testy))\n",
    "    h_list.append(history)\n",
    "    output = model.predict(trainX)\n",
    "    data = np.where(output > trh)\n",
    "    new_x = np.concatenate((trainX[data[0]], new_x))\n",
    "    new_y = np.concatenate((data[1], new_y))\n",
    "    trainX = np.delete(trainX, data[0], axis=0)\n",
    "    i = new_y.shape[0]"
   ]
  },
  {
   "cell_type": "code",
   "execution_count": 29,
   "id": "8797091f",
   "metadata": {},
   "outputs": [
    {
     "data": {
      "text/plain": [
       "[PhysicalDevice(name='/physical_device:CPU:0', device_type='CPU'),\n",
       " PhysicalDevice(name='/physical_device:GPU:0', device_type='GPU')]"
      ]
     },
     "execution_count": 29,
     "metadata": {},
     "output_type": "execute_result"
    }
   ],
   "source": [
    "tf.config.get_visible_devices()"
   ]
  },
  {
   "cell_type": "code",
   "execution_count": 30,
   "id": "302dc3cf",
   "metadata": {},
   "outputs": [],
   "source": [
    "def GetDataMean(hist, key):\n",
    "    output_x = list()\n",
    "    \n",
    "    for data in hist:\n",
    "        output_x.extend(data.history[key])\n",
    "    \n",
    "    return np.array(output_x)"
   ]
  },
  {
   "cell_type": "code",
   "execution_count": 31,
   "id": "bd874a4c",
   "metadata": {},
   "outputs": [
    {
     "data": {
      "text/plain": [
       "array([0.30630001, 0.52600002, 0.60549998, 0.69410002, 0.74190003,\n",
       "       0.7202    , 0.77469999, 0.80129999, 0.8096    , 0.81940001,\n",
       "       0.86369997, 0.87279999, 0.88190001, 0.88270003, 0.8527    ,\n",
       "       0.8818    , 0.88340002, 0.88389999, 0.88330001, 0.88630003])"
      ]
     },
     "execution_count": 31,
     "metadata": {},
     "output_type": "execute_result"
    }
   ],
   "source": [
    "GetDataMean(h_list, 'val_accuracy')"
   ]
  },
  {
   "cell_type": "code",
   "execution_count": 32,
   "id": "8226abf5",
   "metadata": {},
   "outputs": [
    {
     "data": {
      "text/plain": [
       "<matplotlib.legend.Legend at 0x1e9549931c0>"
      ]
     },
     "execution_count": 32,
     "metadata": {},
     "output_type": "execute_result"
    },
    {
     "data": {
      "image/png": "[encoded data removed]",
      "text/plain": [
       "<Figure size 720x720 with 1 Axes>"
      ]
     },
     "metadata": {
      "needs_background": "light"
     },
     "output_type": "display_data"
    }
   ],
   "source": [
    "fig, ax = plt.subplots(figsize=(10, 10))\n",
    "\n",
    "plt.plot(GetDataMean(h_list, 'val_accuracy'), label='val_accuracy')\n",
    "plt.plot(GetDataMean(h_list, 'accuracy'), label='accuracy')\n",
    "plt.plot(GetDataMean(h_list, 'loss'), label='loss')\n",
    "plt.xlabel('Epoch')\n",
    "plt.ylabel('Accuracy')\n",
    "plt.ylim([0, 1.1])\n",
    "plt.legend(loc='lower right')"
   ]
  },
  {
   "cell_type": "code",
   "execution_count": 33,
   "id": "c26d0b00",
   "metadata": {},
   "outputs": [
    {
     "name": "stdout",
     "output_type": "stream",
     "text": [
      "Model: \"sequential\"\n",
      "_________________________________________________________________\n",
      " Layer (type)                Output Shape              Param #   \n",
      "=================================================================\n",
      " conv2d (Conv2D)             (None, 14, 14, 64)        1664      \n",
      "                                                                 \n",
      " leaky_re_lu (LeakyReLU)     (None, 14, 14, 64)        0         \n",
      "                                                                 \n",
      " dropout (Dropout)           (None, 14, 14, 64)        0         \n",
      "                                                                 \n",
      " conv2d_1 (Conv2D)           (None, 7, 7, 128)         204928    \n",
      "                                                                 \n",
      " leaky_re_lu_1 (LeakyReLU)   (None, 7, 7, 128)         0         \n",
      "                                                                 \n",
      " dropout_1 (Dropout)         (None, 7, 7, 128)         0         \n",
      "                                                                 \n",
      " flatten (Flatten)           (None, 6272)              0         \n",
      "                                                                 \n",
      " dense (Dense)               (None, 64)                401472    \n",
      "                                                                 \n",
      " dense_1 (Dense)             (None, 10)                650       \n",
      "                                                                 \n",
      " activation (Activation)     (None, 10)                0         \n",
      "                                                                 \n",
      "=================================================================\n",
      "Total params: 608,714\n",
      "Trainable params: 608,714\n",
      "Non-trainable params: 0\n",
      "_________________________________________________________________\n"
     ]
    }
   ],
   "source": [
    "model.summary()"
   ]
  },
  {
   "cell_type": "code",
   "execution_count": null,
   "id": "499cdecc",
   "metadata": {},
   "outputs": [],
   "source": []
  }
 ],
 "metadata": {
  "kernelspec": {
   "display_name": "Python 3 (ipykernel)",
   "language": "python",
   "name": "python3"
  },
  "language_info": {
   "codemirror_mode": {
    "name": "ipython",
    "version": 3
   },
   "file_extension": ".py",
   "mimetype": "text/x-python",
   "name": "python",
   "nbconvert_exporter": "python",
   "pygments_lexer": "ipython3",
   "version": "3.10.2"
  }
 },
 "nbformat": 4,
 "nbformat_minor": 5
}
