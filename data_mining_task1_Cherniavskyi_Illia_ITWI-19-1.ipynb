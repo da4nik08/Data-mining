{
 "cells": [
  {
   "cell_type": "markdown",
   "metadata": {
    "id": "HXiPVw_feCSb"
   },
   "source": [
    "## Завдання на лабораторну работу №1\n",
    "\n",
    "В цій лабораторної роботі Вам буде запропоновано вирішити кілька завдань скориставшись засобами мови python. Рішення кожного завдання передбачає написання коду і демонстрація його працездатності на прикладах.\n",
    "\n",
    "[зверніть увагу на типізацію функцій](https://docs.python.org/3/library/typing.html)\n",
    "\n",
    "```NB```: При написанні коду не забувайте видаляти ```pass```!"
   ]
  },
  {
   "cell_type": "markdown",
   "metadata": {
    "id": "IPQHbkSueCSf"
   },
   "source": [
    "Перед тим, як надіслати своє завдання на перевірку, вкажіть в назві файлу своє ім'я та прізвище!\n",
    "Наприклад: ```data_mining_task1_python_ana_de.ipynb```"
   ]
  },
  {
   "cell_type": "markdown",
   "metadata": {
    "id": "OE2qgEaeeCSg"
   },
   "source": [
    "Завдання 1: На вхід функція приймає рядок s. Функція повинна повернути True якщо рядок є паліндромом та False – в протилежному випадку.\n",
    "\n",
    "Наприклад: \n",
    "\n",
    "*   `is_palindrome(s='anade') -> False`\n",
    "*   `is_palindrome(s='ana') -> True`\n",
    "\n",
    "\n"
   ]
  },
  {
   "cell_type": "code",
   "execution_count": 1,
   "metadata": {
    "id": "Kkp_Eb1jeCSg"
   },
   "outputs": [
    {
     "name": "stdout",
     "output_type": "stream",
     "text": [
      "False\n",
      "True\n"
     ]
    }
   ],
   "source": [
    "def is_palindrome(s: str) -> bool:\n",
    "    for i in range((len(s))//2):\n",
    "        if s[i] != s[-i - 1]:\n",
    "            return False\n",
    "    return True\n",
    "\n",
    "\n",
    "print(is_palindrome('anade'))\n",
    "print(is_palindrome('ana'))"
   ]
  },
  {
   "cell_type": "markdown",
   "metadata": {
    "id": "IyJBIte7eCSh"
   },
   "source": [
    "Завдання 2: Розв’язати квадратне рівняння $ax^2+bx + c = 0$.  Напишіть функцію,яка приймає параметри квадратного рівняння, а повертає одне рішення або декілька.\n",
    "\n",
    "Наприклад:  \n",
    "\n",
    "\n",
    "```\n",
    "solve_quad(a=1, b=-2, c=1) -> 1  \n",
    "solve_quad(a=1, b=0, c=-1) -> (-1, 1)  \n",
    "solve_quad(a=0, b=2, c=-1) -> 0.5\n",
    "```\n",
    "\n",
    "\n",
    "\n",
    "\n",
    "\n",
    " "
   ]
  },
  {
   "cell_type": "code",
   "execution_count": 2,
   "metadata": {
    "id": "T-fCGsPjeCSh"
   },
   "outputs": [
    {
     "name": "stdout",
     "output_type": "stream",
     "text": [
      "1.0\n",
      "(1.0, -1.0)\n",
      "0.5\n"
     ]
    }
   ],
   "source": [
    "import math\n",
    "def solve_quad(a: float, b: float, c: float):\n",
    "    d = (b * b) - 4 * a * c\n",
    "    if d < 0:\n",
    "        return None\n",
    "    elif a == 0:\n",
    "        return -c/b\n",
    "    else:\n",
    "        x1 = round((- b + d ** (0.5)) / (2 * a),3)\n",
    "        x2 = round((- b - d ** (0.5)) / (2 * a),3)\n",
    "        if x1 != x2:\n",
    "            return (x1, x2)\n",
    "        if x1 == x2:\n",
    "            return x1    \n",
    "\n",
    "print(solve_quad(a=1, b=-2, c=1))  \n",
    "print(solve_quad(a=1, b=0, c=-1))  \n",
    "print(solve_quad(a=0, b=2, c=-1))"
   ]
  },
  {
   "cell_type": "markdown",
   "metadata": {
    "id": "XTXSIYdYeCSh"
   },
   "source": [
    "Завдання 3: Реалізація функції merge. На вхід функція приймає 2 відсортованих масиви - `a` і `b`. Функція повинна повернути один відсортований масив, який містить всі елементи масивів `a` і `b`. \n",
    "\n",
    "Наприклад: `merge([1, 3, 3, 5], [3, 5, 5, 7]) -> [1, 3, 3, 3, 5, 5, 5, 7]`"
   ]
  },
  {
   "cell_type": "code",
   "execution_count": 5,
   "metadata": {
    "id": "nfXKB-nveCSh"
   },
   "outputs": [
    {
     "name": "stdout",
     "output_type": "stream",
     "text": [
      "[1, 3, 3, 3, 5, 5, 5, 7]\n"
     ]
    }
   ],
   "source": [
    "from typing import List\n",
    "\n",
    "def merge(a: List[int], b: List[int]) -> List[int]:\n",
    "    c = list()\n",
    "    x = 0\n",
    "    y = 0\n",
    "    while x < len(a) or y < len(b):\n",
    "        if x == len(a):\n",
    "            c = c + b[y:]\n",
    "            y = len(b)\n",
    "        elif y == len(b):\n",
    "            c = c + a[x:]\n",
    "            x = len(a)\n",
    "        else:\n",
    "            if a[x] <= b[y]:\n",
    "                c.append(a[x])\n",
    "                x += 1\n",
    "            else:\n",
    "                c.append(b[y])\n",
    "                y += 1\n",
    "    #c = a + b\n",
    "    #c.sort()\n",
    "    return c\n",
    "\n",
    "print(merge([1, 3, 3, 5], [3, 5, 5, 7]))"
   ]
  },
  {
   "cell_type": "markdown",
   "metadata": {
    "id": "Z4zl4_cNeCSi"
   },
   "source": [
    "Завдання 4: Реалізація алгоритму [MergeSort](https://ru.wikipedia.org/wiki/%D0%A1%D0%BE%D1%80%D1%82%D0%B8%D1%80%D0%BE%D0%B2%D0%BA%D0%B0_%D1%81%D0%BB%D0%B8%D1%8F%D0%BD%D0%B8%D0%B5%D0%BC)..\n",
    "\n",
    "Наприклад: `MergeSort([3, 1, 3, 5]) -> [1, 3, 3, 5]`"
   ]
  },
  {
   "cell_type": "code",
   "execution_count": 6,
   "metadata": {
    "id": "VhDE9sTyeCSi"
   },
   "outputs": [
    {
     "name": "stdout",
     "output_type": "stream",
     "text": [
      "[-1, 0, 1, 2, 3, 3, 5, 6, 8]\n"
     ]
    }
   ],
   "source": [
    "def MergeSort(L: List[int]) -> List:\n",
    "    if len(L) <= 1:\n",
    "        return L\n",
    "    left = L[:len(L) // 2]\n",
    "    right = L[len(L) // 2:]\n",
    "    return merge(MergeSort(left), MergeSort(right))\n",
    "\n",
    "print(MergeSort([3, 8, 1, 0, 2, 3, 5, 6, -1,]))"
   ]
  },
  {
   "cell_type": "markdown",
   "metadata": {
    "id": "oiEEW3IKeCSj"
   },
   "source": [
    "## Знайомство з numpy."
   ]
  },
  {
   "cell_type": "markdown",
   "metadata": {
    "id": "eEtj358ceCSj"
   },
   "source": [
    "Всі завдання з цієї частини передбачають написання функції на мові Python, а так само приклади роботи цієї функції. При реалізації завдань потрібно використовувати методи з бібліотеки `numpy`. Рішення з циклами будуть оцінені в 0 балів.\n",
    "\n",
    "[базова документація](http://www.numpy.org)\n",
    "\n",
    "```NB```: Під матрицею розуміється двовимірний [numpy.array](https://docs.scipy.org/doc/numpy/reference/generated/numpy.array.html)\n",
    "\n",
    "Для підключення модуля скористайтеся наступним рядком. \n",
    "Використовуйте стандартне скорочення np."
   ]
  },
  {
   "cell_type": "code",
   "execution_count": 28,
   "metadata": {
    "id": "tpv_AzJzeCSj"
   },
   "outputs": [],
   "source": [
    "import numpy as np"
   ]
  },
  {
   "cell_type": "markdown",
   "metadata": {
    "id": "syBtY_AReCSj"
   },
   "source": [
    "Cтворення одномірного і двомірного масивів методами numpy:"
   ]
  },
  {
   "cell_type": "code",
   "execution_count": null,
   "metadata": {
    "id": "yfm0zbHJeCSj",
    "outputId": "e896f45e-df10-4364-f796-10032bd467cd"
   },
   "outputs": [
    {
     "name": "stdout",
     "output_type": "stream",
     "text": [
      "[1. 2. 3.]\n"
     ]
    }
   ],
   "source": [
    "Ar1d = np.array([1, 2, 3], dtype=np.float64)\n",
    "print(Ar1d)"
   ]
  },
  {
   "cell_type": "code",
   "execution_count": null,
   "metadata": {
    "id": "NO1tV1fteCSk",
    "outputId": "59fedd1c-9b1b-43a9-a689-822c7efb3927"
   },
   "outputs": [
    {
     "name": "stdout",
     "output_type": "stream",
     "text": [
      "[[1. 2.]\n",
      " [3. 4.]]\n"
     ]
    }
   ],
   "source": [
    "Ar2d = np.array([[1, 2],\n",
    "                [3, 4]], dtype=np.float)\n",
    "print(Ar2d)"
   ]
  },
  {
   "cell_type": "markdown",
   "metadata": {
    "id": "NZns18uoeCSk"
   },
   "source": [
    "Завдання 6: Написати функцію яка на вхід приймає 3 масиви – `X, Y, Z`. функція повертатиме `True` у випадку, коли вони рівні та `False` – якщо ні.\n",
    "\n",
    "Рекомендація до завдання: Не використовуйте оператор `==`"
   ]
  },
  {
   "cell_type": "code",
   "execution_count": 5,
   "metadata": {
    "id": "nzv5GOlqeCSl"
   },
   "outputs": [
    {
     "name": "stdout",
     "output_type": "stream",
     "text": [
      "True\n",
      "False\n"
     ]
    }
   ],
   "source": [
    "import numpy as np\n",
    "def is_equal(X, Y, Z):\n",
    "    if np.array_equal(X, Y) and np.array_equal(Y, Z):\n",
    "        return True\n",
    "    else:\n",
    "        return False\n",
    "\n",
    "print(is_equal(np.array([1, 2, 3]), np.array([1, 2, 3]), np.array([1, 2, 3])))\n",
    "print(is_equal(np.array([3, 2, 3]), np.array([1, 2, 3]), np.array([1, 4, 3])))"
   ]
  },
  {
   "cell_type": "markdown",
   "metadata": {
    "id": "4vYN-bnIeCSl"
   },
   "source": [
    "Завдання 7: написати функцію, яка приймає на вході вектор рядок, а повертає вектор стовбець.\n",
    "\n",
    "Рекомендація до завдання: Забороняється використовувати операцію транспонування! Скористайтесь методом `reshape`."
   ]
  },
  {
   "cell_type": "code",
   "execution_count": 41,
   "metadata": {
    "id": "cwnufrdPeCSl"
   },
   "outputs": [
    {
     "name": "stdout",
     "output_type": "stream",
     "text": [
      "[[1]\n",
      " [2]\n",
      " [3]\n",
      " [4]]\n"
     ]
    }
   ],
   "source": [
    "def rot_vec(x):\n",
    "    return x.reshape((x.size, 1))\n",
    "\n",
    "print(rot_vec(np.array([1, 2, 3, 4])))"
   ]
  },
  {
   "cell_type": "markdown",
   "metadata": {
    "id": "uvi-JOAheCSl"
   },
   "source": [
    "Завдання 8: Написати функцію яка приймає на вхід двовимірний масив, а повертає масив з діагональними елементами цієї матриці. \n",
    "\n",
    "Наприклад: `[[1, 2], [3, 4]] -> [1 4]`"
   ]
  },
  {
   "cell_type": "code",
   "execution_count": 7,
   "metadata": {
    "id": "uBSPXOJkeCSl"
   },
   "outputs": [
    {
     "name": "stdout",
     "output_type": "stream",
     "text": [
      "[1 4]\n"
     ]
    }
   ],
   "source": [
    "def get_diag(X):\n",
    "    return np.diag(X)\n",
    "\n",
    "print(get_diag(np.array([[1, 2], [3, 4]])))"
   ]
  },
  {
   "cell_type": "markdown",
   "metadata": {
    "id": "PvwgIU1veCSm"
   },
   "source": [
    "Завдання 9: Написати функцію яка приймає на вхід двомірний масив, а повертає масив елементів які знаходяться на другорядній діагоналі. Приклад: `[[1, 2], [3, 4]] -> [2 3]`"
   ]
  },
  {
   "cell_type": "code",
   "execution_count": 18,
   "metadata": {
    "id": "zIRKjQofeCSm"
   },
   "outputs": [
    {
     "name": "stdout",
     "output_type": "stream",
     "text": [
      "[2 3]\n"
     ]
    }
   ],
   "source": [
    "def sec_diag(X):\n",
    "    return np.fliplr(X).diagonal()\n",
    "\n",
    "print(sec_diag(np.array([[1, 2], [3, 4]])))"
   ]
  },
  {
   "cell_type": "markdown",
   "metadata": {
    "id": "TQ61tk7SeCSm"
   },
   "source": [
    "## Робота з бібліотекою pandas\n",
    "\n",
    "В наступній частині лабораторної роботи розглянемо бібліотеку pandas.\n",
    "Перед виконанням цієї частини необхідно завантажити датасет за посиланням:\n",
    "[titanic.csv](https://gist.github.com/michhar/2dfd2de0d4f8727f873422c5d959fff5)\n",
    "\n",
    "[основна документація цього розділу](https://pandas.pydata.org/)"
   ]
  },
  {
   "cell_type": "code",
   "execution_count": 9,
   "metadata": {
    "id": "Fbe_qcF0eCSm"
   },
   "outputs": [
    {
     "data": {
      "text/html": [
       "<div>\n",
       "<style scoped>\n",
       "    .dataframe tbody tr th:only-of-type {\n",
       "        vertical-align: middle;\n",
       "    }\n",
       "\n",
       "    .dataframe tbody tr th {\n",
       "        vertical-align: top;\n",
       "    }\n",
       "\n",
       "    .dataframe thead th {\n",
       "        text-align: right;\n",
       "    }\n",
       "</style>\n",
       "<table border=\"1\" class=\"dataframe\">\n",
       "  <thead>\n",
       "    <tr style=\"text-align: right;\">\n",
       "      <th></th>\n",
       "      <th>PassengerId</th>\n",
       "      <th>Survived</th>\n",
       "      <th>Pclass</th>\n",
       "      <th>Name</th>\n",
       "      <th>Sex</th>\n",
       "      <th>Age</th>\n",
       "      <th>SibSp</th>\n",
       "      <th>Parch</th>\n",
       "      <th>Ticket</th>\n",
       "      <th>Fare</th>\n",
       "      <th>Cabin</th>\n",
       "      <th>Embarked</th>\n",
       "    </tr>\n",
       "  </thead>\n",
       "  <tbody>\n",
       "    <tr>\n",
       "      <th>0</th>\n",
       "      <td>1</td>\n",
       "      <td>0</td>\n",
       "      <td>3</td>\n",
       "      <td>Braund, Mr. Owen Harris</td>\n",
       "      <td>male</td>\n",
       "      <td>22.0</td>\n",
       "      <td>1</td>\n",
       "      <td>0</td>\n",
       "      <td>A/5 21171</td>\n",
       "      <td>7.2500</td>\n",
       "      <td>NaN</td>\n",
       "      <td>S</td>\n",
       "    </tr>\n",
       "    <tr>\n",
       "      <th>1</th>\n",
       "      <td>2</td>\n",
       "      <td>1</td>\n",
       "      <td>1</td>\n",
       "      <td>Cumings, Mrs. John Bradley (Florence Briggs Th...</td>\n",
       "      <td>female</td>\n",
       "      <td>38.0</td>\n",
       "      <td>1</td>\n",
       "      <td>0</td>\n",
       "      <td>PC 17599</td>\n",
       "      <td>71.2833</td>\n",
       "      <td>C85</td>\n",
       "      <td>C</td>\n",
       "    </tr>\n",
       "    <tr>\n",
       "      <th>2</th>\n",
       "      <td>3</td>\n",
       "      <td>1</td>\n",
       "      <td>3</td>\n",
       "      <td>Heikkinen, Miss. Laina</td>\n",
       "      <td>female</td>\n",
       "      <td>26.0</td>\n",
       "      <td>0</td>\n",
       "      <td>0</td>\n",
       "      <td>STON/O2. 3101282</td>\n",
       "      <td>7.9250</td>\n",
       "      <td>NaN</td>\n",
       "      <td>S</td>\n",
       "    </tr>\n",
       "    <tr>\n",
       "      <th>3</th>\n",
       "      <td>4</td>\n",
       "      <td>1</td>\n",
       "      <td>1</td>\n",
       "      <td>Futrelle, Mrs. Jacques Heath (Lily May Peel)</td>\n",
       "      <td>female</td>\n",
       "      <td>35.0</td>\n",
       "      <td>1</td>\n",
       "      <td>0</td>\n",
       "      <td>113803</td>\n",
       "      <td>53.1000</td>\n",
       "      <td>C123</td>\n",
       "      <td>S</td>\n",
       "    </tr>\n",
       "    <tr>\n",
       "      <th>4</th>\n",
       "      <td>5</td>\n",
       "      <td>0</td>\n",
       "      <td>3</td>\n",
       "      <td>Allen, Mr. William Henry</td>\n",
       "      <td>male</td>\n",
       "      <td>35.0</td>\n",
       "      <td>0</td>\n",
       "      <td>0</td>\n",
       "      <td>373450</td>\n",
       "      <td>8.0500</td>\n",
       "      <td>NaN</td>\n",
       "      <td>S</td>\n",
       "    </tr>\n",
       "  </tbody>\n",
       "</table>\n",
       "</div>"
      ],
      "text/plain": [
       "   PassengerId  Survived  Pclass  \\\n",
       "0            1         0       3   \n",
       "1            2         1       1   \n",
       "2            3         1       3   \n",
       "3            4         1       1   \n",
       "4            5         0       3   \n",
       "\n",
       "                                                Name     Sex   Age  SibSp  \\\n",
       "0                            Braund, Mr. Owen Harris    male  22.0      1   \n",
       "1  Cumings, Mrs. John Bradley (Florence Briggs Th...  female  38.0      1   \n",
       "2                             Heikkinen, Miss. Laina  female  26.0      0   \n",
       "3       Futrelle, Mrs. Jacques Heath (Lily May Peel)  female  35.0      1   \n",
       "4                           Allen, Mr. William Henry    male  35.0      0   \n",
       "\n",
       "   Parch            Ticket     Fare Cabin Embarked  \n",
       "0      0         A/5 21171   7.2500   NaN        S  \n",
       "1      0          PC 17599  71.2833   C85        C  \n",
       "2      0  STON/O2. 3101282   7.9250   NaN        S  \n",
       "3      0            113803  53.1000  C123        S  \n",
       "4      0            373450   8.0500   NaN        S  "
      ]
     },
     "execution_count": 9,
     "metadata": {},
     "output_type": "execute_result"
    }
   ],
   "source": [
    "import pandas as pd\n",
    "\n",
    "# Завантажте датасет. Ознайомтесь з тим як це правильно зробити, уважно прочитавши документацію по функції pd.read_csv.\n",
    "# Зверніть особливу увагу на роздільники датасета. \n",
    "\n",
    "dataset = pd.read_csv('titanic.csv')\n",
    "dataset.head()"
   ]
  },
  {
   "cell_type": "markdown",
   "metadata": {
    "id": "qTxYBLWdeCSm"
   },
   "source": [
    "Завдання 10: Кого більше - чоловіків чи жінок?"
   ]
  },
  {
   "cell_type": "code",
   "execution_count": 47,
   "metadata": {
    "id": "58MgIBEleCSm"
   },
   "outputs": [
    {
     "name": "stdout",
     "output_type": "stream",
     "text": [
      "male\n"
     ]
    }
   ],
   "source": [
    "def who_is_more(x):\n",
    "    men = x[x[\"Sex\"] == \"male\"]\n",
    "    women = x[x[\"Sex\"] == \"female\"]\n",
    "    if len(men) > len(women):\n",
    "        return \"male\"\n",
    "    if len(men) < len(women):\n",
    "        return \"female\"\n",
    "    else:\n",
    "        return \"equally\"\n",
    "\n",
    "print(who_is_more(dataset))"
   ]
  },
  {
   "cell_type": "markdown",
   "metadata": {
    "id": "ApLZCvNveCSm"
   },
   "source": [
    "Завдання 11: Виведіть наступні характеристики пасажирів: середній вік пасажирів, середній вік чоловіків, середній вік жінок, максимальний і мінімальний вік серед чоловіків і жінок."
   ]
  },
  {
   "cell_type": "code",
   "execution_count": 61,
   "metadata": {
    "id": "Sg59NcqLeCSn"
   },
   "outputs": [
    {
     "name": "stdout",
     "output_type": "stream",
     "text": [
      "середній вік пасажирів = 29.69911764705882\n",
      "середній вік чоловіків = 30.72664459161148\n",
      "середній вік жінок = 27.915708812260537\n",
      "максимальний вік чоловіків = 80.0\n",
      "максимальний вік жінок = 63.0\n",
      "максимальний вік чоловіків = 0.42\n",
      "максимальний вік жінок = 0.75\n"
     ]
    }
   ],
   "source": [
    "def info(x):\n",
    "    print(\"середній вік пасажирів = \" + str(x[\"Age\"].mean()))\n",
    "    print(\"середній вік чоловіків = \" + str(x[x[\"Sex\"] == \"male\"][\"Age\"].mean()))\n",
    "    print(\"середній вік жінок = \" + str(x[x[\"Sex\"] == \"female\"][\"Age\"].mean()))\n",
    "    print(\"максимальний вік чоловіків = \" + str(x[x[\"Sex\"] == \"male\"][\"Age\"].max()))\n",
    "    print(\"максимальний вік жінок = \" + str(x[x[\"Sex\"] == \"female\"][\"Age\"].max()))\n",
    "    print(\"мінімальний вік чоловіків = \" + str(x[x[\"Sex\"] == \"male\"][\"Age\"].min()))\n",
    "    print(\"мінімальний вік жінок = \" + str(x[x[\"Sex\"] == \"female\"][\"Age\"].min()))\n",
    "    \n",
    "    \n",
    "info(dataset)"
   ]
  },
  {
   "cell_type": "markdown",
   "metadata": {
    "id": "P5zkuX9VeCSn"
   },
   "source": [
    " ## Знайомство з бібліотекою matplotlib "
   ]
  },
  {
   "cell_type": "markdown",
   "metadata": {
    "id": "cYyqxB4MeCSn"
   },
   "source": [
    "Для початку ознайомтесь з [документацією](https://matplotlib.org/)"
   ]
  },
  {
   "cell_type": "markdown",
   "metadata": {
    "id": "pEt3gexreCSn"
   },
   "source": [
    "Завдання 12: Побудувати задані функції: \n",
    "\n",
    "$f_{1}(x) =  \\frac{sin(x)}{x}$\n",
    "\n",
    "$f_{2}(x) =  \\frac{cos(x)}{x^2 + 1}$\n",
    "\n",
    "$f_{3}(x) =  cos^2(x) - \\frac{sin(x)}{2}$  \n",
    "\n",
    "$f_{4}(x) =  cos(x)$  \n",
    "\n",
    "$f_{5}(x) =  \\frac{sin(x)}{x^2 + 1}$"
   ]
  },
  {
   "cell_type": "markdown",
   "metadata": {
    "id": "YJ0pmkTo8S1D"
   },
   "source": [
    "зробити візуалізацію заданих функцій  \n",
    "нижче наведені стандартні праклади"
   ]
  },
  {
   "cell_type": "code",
   "execution_count": 30,
   "metadata": {
    "id": "YVT6yXXqeCSn"
   },
   "outputs": [],
   "source": [
    "from matplotlib import pylab as plt\n",
    "%matplotlib inline"
   ]
  },
  {
   "cell_type": "code",
   "execution_count": null,
   "metadata": {
    "id": "UtB89oaVeCSn",
    "outputId": "48a50904-4cd7-4373-e09b-9c1c6004d418"
   },
   "outputs": [
    {
     "data": {
      "text/plain": [
       "[<matplotlib.lines.Line2D at 0x7fd483be2f40>]"
      ]
     },
     "execution_count": 7,
     "metadata": {
      "tags": []
     },
     "output_type": "execute_result"
    },
    {
     "data": {
      "image/png": "[encoded data removed]",
      "text/plain": [
       "<Figure size 432x288 with 1 Axes>"
      ]
     },
     "metadata": {
      "needs_background": "light",
      "tags": []
     },
     "output_type": "display_data"
    }
   ],
   "source": [
    "x = [i for i in range (50)]\n",
    "y = [i**2 for i in range (50)]\n",
    "plt.plot(x,y)"
   ]
  },
  {
   "cell_type": "code",
   "execution_count": 2,
   "metadata": {},
   "outputs": [
    {
     "data": {
      "text/plain": [
       "[<matplotlib.lines.Line2D at 0x2a9050ac280>]"
      ]
     },
     "execution_count": 2,
     "metadata": {},
     "output_type": "execute_result"
    },
    {
     "data": {
      "image/png": "[encoded data removed]",
      "text/plain": [
       "<Figure size 432x288 with 1 Axes>"
      ]
     },
     "metadata": {
      "needs_background": "light"
     },
     "output_type": "display_data"
    }
   ],
   "source": [
    "from matplotlib import pylab as plt\n",
    "\n",
    "x = [i for i in range (100)]\n",
    "y = [i**0.5 for i in range (100)]\n",
    "plt.plot(x,y)"
   ]
  },
  {
   "cell_type": "code",
   "execution_count": null,
   "metadata": {
    "id": "tCJ2CuOAeCSo"
   },
   "outputs": [],
   "source": [
    "import matplotlib.pyplot as plt\n",
    "\n",
    "x = np.arange(-10, 10, 0.01)\n",
    "\n",
    "y1 = np.sin(x) / x\n",
    "y2 = np.cos(x) / (1. + x ** 2)\n",
    "y3 = np.cos(x) * np.cos(x) - np.sin(x) / 2."
   ]
  },
  {
   "cell_type": "code",
   "execution_count": null,
   "metadata": {
    "id": "ki86Yt_XeCSo",
    "outputId": "543d5281-b728-4f43-d545-b60d2b8f7f04",
    "scrolled": true
   },
   "outputs": [
    {
     "data": {
      "image/png": "[encoded data removed]",
      "text/plain": [
       "<Figure size 432x288 with 1 Axes>"
      ]
     },
     "metadata": {
      "needs_background": "light",
      "tags": []
     },
     "output_type": "display_data"
    }
   ],
   "source": [
    "plt.plot(x, y1)\n",
    "plt.plot(x, y2)\n",
    "plt.plot(x, y3)\n",
    "plt.show()"
   ]
  },
  {
   "cell_type": "code",
   "execution_count": 7,
   "metadata": {},
   "outputs": [
    {
     "data": {
      "image/png": "[encoded data removed]",
      "text/plain": [
       "<Figure size 432x288 with 1 Axes>"
      ]
     },
     "metadata": {
      "needs_background": "light"
     },
     "output_type": "display_data"
    }
   ],
   "source": [
    "import matplotlib.pyplot as plt\n",
    "import numpy as np\n",
    "\n",
    "x = np.arange(-20, 20, 0.05)\n",
    "\n",
    "y1 = np.sin(x) / x\n",
    "y2 = np.cos(x) / (1. + x ** 2)\n",
    "y3 = np.cos(x) * np.cos(x) - np.sin(x) / 2.\n",
    "\n",
    "plt.plot(x, y1,)\n",
    "plt.plot(x, y2, \"r--\")\n",
    "plt.plot(x, y3)\n",
    "plt.xlabel(\"x\")\n",
    "plt.ylabel(\"y\")\n",
    "plt.title(\"Функции: sin(x) / x, cos(x) / (1 + x^2), cos(x) * cos(x) - sin(x) / 2\")\n",
    "plt.grid()\n",
    "\n",
    "plt.show()"
   ]
  },
  {
   "cell_type": "code",
   "execution_count": null,
   "metadata": {
    "id": "U3iVhlYeeCSo"
   },
   "outputs": [],
   "source": [
    "import matplotlib.pyplot as plt\n",
    "\n",
    "x = np.arange(-10, 10, 0.01)\n",
    "\n",
    "y4 = np.cos(x)\n",
    "y5 = np.sin(x) / (1. + x ** 2)"
   ]
  },
  {
   "cell_type": "code",
   "execution_count": null,
   "metadata": {
    "id": "70fOVYjJeCSo",
    "outputId": "2e700e4d-1d73-4232-fc8b-8528146ac5e2"
   },
   "outputs": [
    {
     "data": {
      "text/plain": [
       "[<matplotlib.lines.Line2D at 0x7fd484291220>]"
      ]
     },
     "execution_count": 28,
     "metadata": {
      "tags": []
     },
     "output_type": "execute_result"
    },
    {
     "data": {
      "image/png": "[encoded data removed]",
      "text/plain": [
       "<Figure size 432x288 with 1 Axes>"
      ]
     },
     "metadata": {
      "needs_background": "light",
      "tags": []
     },
     "output_type": "display_data"
    }
   ],
   "source": [
    "plt.plot(x,y4)\n",
    "plt.plot(x,y5)"
   ]
  },
  {
   "cell_type": "code",
   "execution_count": 7,
   "metadata": {},
   "outputs": [
    {
     "data": {
      "image/png": "[encoded data removed]",
      "text/plain": [
       "<Figure size 432x288 with 1 Axes>"
      ]
     },
     "metadata": {
      "needs_background": "light"
     },
     "output_type": "display_data"
    }
   ],
   "source": [
    "import matplotlib.pyplot as plt\n",
    "import numpy as np\n",
    "\n",
    "x = np.arange(-20, 20, 0.01)\n",
    "\n",
    "y4 = np.cos(x)\n",
    "y5 = np.sin(x) / (1. + x ** 2)\n",
    "\n",
    "plt.plot(x, y4,)\n",
    "plt.plot(x, y5, \"g--\")\n",
    "plt.xlabel(\"x\")\n",
    "plt.ylabel(\"y\")\n",
    "plt.title(\"Функции: cos(x), sin(x) / (1. + x^2)\")\n",
    "plt.grid()\n",
    "\n",
    "plt.show()"
   ]
  },
  {
   "cell_type": "markdown",
   "metadata": {
    "id": "Tg-QmR-eeCSp"
   },
   "source": [
    "Завдання 13: Побудувати графік щільності розподілу випадкової величини."
   ]
  },
  {
   "cell_type": "markdown",
   "metadata": {
    "id": "fPIuwCin8S1H"
   },
   "source": [
    "зробити візуалізації задоної випадкової величини"
   ]
  },
  {
   "cell_type": "code",
   "execution_count": null,
   "metadata": {
    "id": "9Av3YD1NeCSp"
   },
   "outputs": [],
   "source": [
    "d = np.random.normal(loc=2.0, scale=3.5, size=1000)"
   ]
  },
  {
   "cell_type": "code",
   "execution_count": null,
   "metadata": {
    "id": "rBQNcArUeCSp",
    "outputId": "1fe0b87a-762a-44c8-e965-c8c6a076a503"
   },
   "outputs": [
    {
     "data": {
      "image/png": "[encoded data removed]",
      "text/plain": [
       "<Figure size 432x288 with 1 Axes>"
      ]
     },
     "metadata": {
      "needs_background": "light",
      "tags": []
     },
     "output_type": "display_data"
    }
   ],
   "source": [
    "plt.hist(d)\n",
    "plt.show()"
   ]
  },
  {
   "cell_type": "code",
   "execution_count": 10,
   "metadata": {},
   "outputs": [
    {
     "data": {
      "image/png": "[encoded data removed]",
      "text/plain": [
       "<Figure size 432x288 with 1 Axes>"
      ]
     },
     "metadata": {
      "needs_background": "light"
     },
     "output_type": "display_data"
    }
   ],
   "source": [
    "d = np.random.normal(dataset[\"Age\"].mean(), dataset[\"Age\"].std(), len(dataset[\"Age\"]))\n",
    "\n",
    "plt.hist(d)\n",
    "plt.show()"
   ]
  },
  {
   "cell_type": "code",
   "execution_count": null,
   "metadata": {},
   "outputs": [],
   "source": []
  }
 ],
 "metadata": {
  "colab": {
   "collapsed_sections": [],
   "name": "task1_data_mining.ipynb",
   "provenance": []
  },
  "kernelspec": {
   "display_name": "Python 3 (ipykernel)",
   "language": "python",
   "name": "python3"
  },
  "language_info": {
   "codemirror_mode": {
    "name": "ipython",
    "version": 3
   },
   "file_extension": ".py",
   "mimetype": "text/x-python",
   "name": "python",
   "nbconvert_exporter": "python",
   "pygments_lexer": "ipython3",
   "version": "3.10.2"
  }
 },
 "nbformat": 4,
 "nbformat_minor": 1
}
